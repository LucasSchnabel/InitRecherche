{
 "cells": [
  {
   "cell_type": "code",
   "execution_count": 1,
   "metadata": {},
   "outputs": [],
   "source": [
    "%matplotlib inline"
   ]
  },
  {
   "cell_type": "code",
   "execution_count": 2,
   "metadata": {},
   "outputs": [],
   "source": [
    "# -*- coding: utf-8 -*-\n",
    "import numpy as np\n",
    "import matplotlib.pyplot as plt\n",
    "from scipy import linalg\n",
    "from ipywidgets import *\n",
    "from IPython.display import *\n",
    "import copy"
   ]
  },
  {
   "cell_type": "code",
   "execution_count": 3,
   "metadata": {},
   "outputs": [],
   "source": [
    "def set_seed(seed=None):\n",
    "    \"\"\"Making the seed (for random values) variable if None\"\"\"\n",
    "\n",
    "    if seed is None:\n",
    "        import time\n",
    "        seed = int((time.time()*10**6) % 4294967295)\n",
    "        print(seed)\n",
    "    try:\n",
    "        np.random.seed(seed)\n",
    "        print(\"Seed used for random values:\", seed)\n",
    "    except:\n",
    "        print(\"!!! WARNING !!!: Seed was not set correctly.\")\n",
    "    return seed"
   ]
  },
  {
   "cell_type": "code",
   "execution_count": 4,
   "metadata": {},
   "outputs": [
    {
     "name": "stdout",
     "output_type": "stream",
     "text": [
      "2003486712\n",
      "Seed used for random values: 2003486712\n"
     ]
    }
   ],
   "source": [
    "class Network(object):\n",
    "\n",
    "    def __init__(self, trainLen=2000, testLen=2000, initLen=100) :\n",
    "        self.initLen = initLen #temps d'initialisation\n",
    "        self.trainLen = trainLen #temps d'entrainement\n",
    "        self.testLen = testLen #temps de test\n",
    "        self.data = np.loadtxt(\"MackeyGlass_t17.txt\")\n",
    "        self.inSize = self.outSize = 1 #Dimension de l'entrée et de la sortie\n",
    "        self.resSize = 300 #Taille du réservoir (prédiction)\n",
    "        #self.resSize = 1000 #Taille du réservoir (géneration)\n",
    "        self.a = 0.3 #Taux de fuite alpha \n",
    "        self.spectral_radius = 1.25 #Rayon spectral\n",
    "        self.input_scaling = 1. #Echelle de l'input\n",
    "        self.reg =  1e-8 #None #Coefficient de régularisation - si None,\n",
    "        #on utilisera le pseudo-inverse plutôt que la régression de crête\n",
    "\n",
    "        self.mode = 'prediction'\n",
    "        #self.mode = 'generative'\n",
    "\n",
    "        #Modification de la première valeur pseudo-aléatoire : les performances du réservoir\n",
    "        #devraient être dans la moyenne après 20 instances aléatoires (pour les mêmes paramètres)\n",
    "        seed = None #42\n",
    "\n",
    "        set_seed(seed)\n",
    "        \n",
    "nw = Network()"
   ]
  },
  {
   "cell_type": "code",
   "execution_count": 5,
   "metadata": {},
   "outputs": [],
   "source": [
    "def initialisation(nw) :\n",
    "\n",
    "    #Poids\n",
    "    nw.Win = (np.random.rand(nw.resSize,1+nw.inSize)-0.5) * nw.input_scaling\n",
    "    nw.W = np.random.rand(nw.resSize,nw.resSize)-0.5 \n",
    "    \n",
    "    #Matrices\n",
    "    #Matrice des états collectés (1,u,x) au cours du temps\n",
    "    nw.X = np.zeros((1+nw.inSize+nw.resSize,nw.trainLen-nw.initLen))\n",
    "    #Matrice de sortie cible\n",
    "    nw.Ytarget = nw.data[None,nw.initLen+1:nw.trainLen+1]\n",
    "\n",
    "    #Vecteur des états du réservoir\n",
    "    nw.x = np.zeros((nw.resSize,1))  \n",
    "    \n",
    "    return(nw)"
   ]
  },
  {
   "cell_type": "code",
   "execution_count": 6,
   "metadata": {},
   "outputs": [],
   "source": [
    "def calcul_rayon_spectral(nw):\n",
    "    print('Calcul du rayon spectral',end=\" \")\n",
    "    rhoW = max(abs(linalg.eig(nw.W)[0]))\n",
    "    print('effectué.')\n",
    "    nw.W *= nw.spectral_radius / rhoW\n",
    "    \n",
    "    return(nw)"
   ]
  },
  {
   "cell_type": "code",
   "execution_count": 7,
   "metadata": {},
   "outputs": [],
   "source": [
    "def apprentissage(nw) :\n",
    "    for t in range(nw.trainLen):\n",
    "        #Données en entrée, issues de data\n",
    "        nw.u = nw.data[t]\n",
    "        nw.x = (1-nw.a)*nw.x + nw.a*np.tanh( np.dot(nw.Win, np.vstack((1,nw.u)) ) + np.dot( nw.W, nw.x ) )\n",
    "        #Au bout d'un certain temps, on modifie X\n",
    "        if t >= nw.initLen:\n",
    "            nw.X[:,t-nw.initLen] = np.vstack((1,nw.u,nw.x))[:,0]\n",
    "            \n",
    "    return(nw)"
   ]
  },
  {
   "cell_type": "code",
   "execution_count": 8,
   "metadata": {},
   "outputs": [],
   "source": [
    "def entrainement_sortie(nw) :\n",
    "    nw.X_T = nw.X.T\n",
    "    if nw.reg is not None:\n",
    "        # Régression de crête (régression linéaire avec régularisation)\n",
    "        nw.Wout = np.dot(np.dot(nw.Ytarget,nw.X_T), linalg.inv(np.dot(nw.X,nw.X_T) + \\\n",
    "            nw.reg*np.eye(1+nw.inSize+nw.resSize) ) )\n",
    "    else:\n",
    "        # Utilisation du pseudo-inverse\n",
    "        nw.Wout = np.dot(nw.Ytarget, linalg.pinv(nw.X) )\n",
    "    return(nw)"
   ]
  },
  {
   "cell_type": "code",
   "execution_count": 9,
   "metadata": {},
   "outputs": [],
   "source": [
    "def test(nw) :\n",
    "    nw.Y = np.zeros((nw.outSize,nw.testLen))\n",
    "    nw.u = nw.data[nw.trainLen]\n",
    "    for t in range(nw.testLen):\n",
    "        nw.x = (1-nw.a)*nw.x + nw.a*np.tanh( np.dot(nw.Win, np.vstack((1,nw.u)) ) + np.dot(nw.W,nw.x ) )\n",
    "        nw.y = np.dot(nw.Wout, np.vstack((1,nw.u,nw.x)) )\n",
    "        nw.Y[:,t] = nw.y\n",
    "        if nw.mode == 'generative':\n",
    "            #Mode génératif:\n",
    "            nw.u = nw.y\n",
    "        elif nw.mode == 'prediction':\n",
    "            #Mode prédictif:\n",
    "            nw.u = nw.data[nw.trainLen+t+1] \n",
    "        else:\n",
    "            raise(Exception, \"ERREUR: le 'mode' n'a pas été correctement déclaré.\")\n",
    "\n",
    "    return(nw)"
   ]
  },
  {
   "cell_type": "code",
   "execution_count": 10,
   "metadata": {},
   "outputs": [],
   "source": [
    "def calcul_erreur(nw) :\n",
    "    # Calcul du MSE pour les premières errorLen itérations\n",
    "    errorLen = 500\n",
    "    mse = sum( np.square( nw.data[nw.trainLen+1:nw.trainLen+errorLen+1] - nw.Y[0,0:errorLen] ) ) / errorLen\n",
    "    print('MSE = ' + str( mse ))\n",
    "    \n",
    "    return(nw)"
   ]
  },
  {
   "cell_type": "code",
   "execution_count": 11,
   "metadata": {},
   "outputs": [],
   "source": [
    "def calcul_reseau(nw) :\n",
    "    nw = initialisation(nw)\n",
    "    nw = calcul_rayon_spectral(nw)\n",
    "    nw = apprentissage(nw)\n",
    "    nw = entrainement_sortie(nw)\n",
    "    nw = test(nw) \n",
    "    nw = calcul_erreur(nw)\n",
    "    return(nw)"
   ]
  },
  {
   "cell_type": "code",
   "execution_count": 12,
   "metadata": {},
   "outputs": [
    {
     "data": {
      "application/vnd.jupyter.widget-view+json": {
       "model_id": "8c0b7b05837545fcba0099ac2672578a",
       "version_major": 2,
       "version_minor": 0
      },
      "text/html": [
       "<p>Failed to display Jupyter Widget of type <code>ToggleButtons</code>.</p>\n",
       "<p>\n",
       "  If you're reading this message in the Jupyter Notebook or JupyterLab Notebook, it may mean\n",
       "  that the widgets JavaScript is still loading. If this message persists, it\n",
       "  likely means that the widgets JavaScript library is either not installed or\n",
       "  not enabled. See the <a href=\"https://ipywidgets.readthedocs.io/en/stable/user_install.html\">Jupyter\n",
       "  Widgets Documentation</a> for setup instructions.\n",
       "</p>\n",
       "<p>\n",
       "  If you're reading this message in another frontend (for example, a static\n",
       "  rendering on GitHub or <a href=\"https://nbviewer.jupyter.org/\">NBViewer</a>),\n",
       "  it may mean that your frontend doesn't currently support widgets.\n",
       "</p>\n"
      ],
      "text/plain": [
       "ToggleButtons(description='Mode:', options=('prediction', 'generative'), value='prediction')"
      ]
     },
     "metadata": {},
     "output_type": "display_data"
    },
    {
     "data": {
      "application/vnd.jupyter.widget-view+json": {
       "model_id": "997e7a682b0d43f7ad40d7c901143ffe",
       "version_major": 2,
       "version_minor": 0
      },
      "text/html": [
       "<p>Failed to display Jupyter Widget of type <code>FloatSlider</code>.</p>\n",
       "<p>\n",
       "  If you're reading this message in the Jupyter Notebook or JupyterLab Notebook, it may mean\n",
       "  that the widgets JavaScript is still loading. If this message persists, it\n",
       "  likely means that the widgets JavaScript library is either not installed or\n",
       "  not enabled. See the <a href=\"https://ipywidgets.readthedocs.io/en/stable/user_install.html\">Jupyter\n",
       "  Widgets Documentation</a> for setup instructions.\n",
       "</p>\n",
       "<p>\n",
       "  If you're reading this message in another frontend (for example, a static\n",
       "  rendering on GitHub or <a href=\"https://nbviewer.jupyter.org/\">NBViewer</a>),\n",
       "  it may mean that your frontend doesn't currently support widgets.\n",
       "</p>\n"
      ],
      "text/plain": [
       "FloatSlider(value=300.0, description='resSize', max=1000.0, step=1.0)"
      ]
     },
     "metadata": {},
     "output_type": "display_data"
    },
    {
     "data": {
      "application/vnd.jupyter.widget-view+json": {
       "model_id": "595ef0fbdf8e49da8e39f1f878f9cafe",
       "version_major": 2,
       "version_minor": 0
      },
      "text/html": [
       "<p>Failed to display Jupyter Widget of type <code>FloatSlider</code>.</p>\n",
       "<p>\n",
       "  If you're reading this message in the Jupyter Notebook or JupyterLab Notebook, it may mean\n",
       "  that the widgets JavaScript is still loading. If this message persists, it\n",
       "  likely means that the widgets JavaScript library is either not installed or\n",
       "  not enabled. See the <a href=\"https://ipywidgets.readthedocs.io/en/stable/user_install.html\">Jupyter\n",
       "  Widgets Documentation</a> for setup instructions.\n",
       "</p>\n",
       "<p>\n",
       "  If you're reading this message in another frontend (for example, a static\n",
       "  rendering on GitHub or <a href=\"https://nbviewer.jupyter.org/\">NBViewer</a>),\n",
       "  it may mean that your frontend doesn't currently support widgets.\n",
       "</p>\n"
      ],
      "text/plain": [
       "FloatSlider(value=100.0, description='initLen', max=2000.0, step=1.0)"
      ]
     },
     "metadata": {},
     "output_type": "display_data"
    },
    {
     "data": {
      "application/vnd.jupyter.widget-view+json": {
       "model_id": "3df4c48ede0744b58e2752dee5b5e949",
       "version_major": 2,
       "version_minor": 0
      },
      "text/html": [
       "<p>Failed to display Jupyter Widget of type <code>FloatSlider</code>.</p>\n",
       "<p>\n",
       "  If you're reading this message in the Jupyter Notebook or JupyterLab Notebook, it may mean\n",
       "  that the widgets JavaScript is still loading. If this message persists, it\n",
       "  likely means that the widgets JavaScript library is either not installed or\n",
       "  not enabled. See the <a href=\"https://ipywidgets.readthedocs.io/en/stable/user_install.html\">Jupyter\n",
       "  Widgets Documentation</a> for setup instructions.\n",
       "</p>\n",
       "<p>\n",
       "  If you're reading this message in another frontend (for example, a static\n",
       "  rendering on GitHub or <a href=\"https://nbviewer.jupyter.org/\">NBViewer</a>),\n",
       "  it may mean that your frontend doesn't currently support widgets.\n",
       "</p>\n"
      ],
      "text/plain": [
       "FloatSlider(value=2000.0, description='trainLen', max=5000.0, step=1.0)"
      ]
     },
     "metadata": {},
     "output_type": "display_data"
    },
    {
     "data": {
      "application/vnd.jupyter.widget-view+json": {
       "model_id": "23d521bf3ceb47699e5b4bba4ef2986c",
       "version_major": 2,
       "version_minor": 0
      },
      "text/html": [
       "<p>Failed to display Jupyter Widget of type <code>FloatSlider</code>.</p>\n",
       "<p>\n",
       "  If you're reading this message in the Jupyter Notebook or JupyterLab Notebook, it may mean\n",
       "  that the widgets JavaScript is still loading. If this message persists, it\n",
       "  likely means that the widgets JavaScript library is either not installed or\n",
       "  not enabled. See the <a href=\"https://ipywidgets.readthedocs.io/en/stable/user_install.html\">Jupyter\n",
       "  Widgets Documentation</a> for setup instructions.\n",
       "</p>\n",
       "<p>\n",
       "  If you're reading this message in another frontend (for example, a static\n",
       "  rendering on GitHub or <a href=\"https://nbviewer.jupyter.org/\">NBViewer</a>),\n",
       "  it may mean that your frontend doesn't currently support widgets.\n",
       "</p>\n"
      ],
      "text/plain": [
       "FloatSlider(value=2000.0, description='testLen', max=5000.0, step=1.0)"
      ]
     },
     "metadata": {},
     "output_type": "display_data"
    },
    {
     "data": {
      "application/vnd.jupyter.widget-view+json": {
       "model_id": "06232a9583d74e47a9aa568a69ae4c95",
       "version_major": 2,
       "version_minor": 0
      },
      "text/html": [
       "<p>Failed to display Jupyter Widget of type <code>FloatSlider</code>.</p>\n",
       "<p>\n",
       "  If you're reading this message in the Jupyter Notebook or JupyterLab Notebook, it may mean\n",
       "  that the widgets JavaScript is still loading. If this message persists, it\n",
       "  likely means that the widgets JavaScript library is either not installed or\n",
       "  not enabled. See the <a href=\"https://ipywidgets.readthedocs.io/en/stable/user_install.html\">Jupyter\n",
       "  Widgets Documentation</a> for setup instructions.\n",
       "</p>\n",
       "<p>\n",
       "  If you're reading this message in another frontend (for example, a static\n",
       "  rendering on GitHub or <a href=\"https://nbviewer.jupyter.org/\">NBViewer</a>),\n",
       "  it may mean that your frontend doesn't currently support widgets.\n",
       "</p>\n"
      ],
      "text/plain": [
       "FloatSlider(value=1.25, description='spectral radius', max=10.0, step=0.05)"
      ]
     },
     "metadata": {},
     "output_type": "display_data"
    },
    {
     "data": {
      "application/vnd.jupyter.widget-view+json": {
       "model_id": "e998a256d88a4e4e86c5d38d2f6b81ba",
       "version_major": 2,
       "version_minor": 0
      },
      "text/html": [
       "<p>Failed to display Jupyter Widget of type <code>FloatSlider</code>.</p>\n",
       "<p>\n",
       "  If you're reading this message in the Jupyter Notebook or JupyterLab Notebook, it may mean\n",
       "  that the widgets JavaScript is still loading. If this message persists, it\n",
       "  likely means that the widgets JavaScript library is either not installed or\n",
       "  not enabled. See the <a href=\"https://ipywidgets.readthedocs.io/en/stable/user_install.html\">Jupyter\n",
       "  Widgets Documentation</a> for setup instructions.\n",
       "</p>\n",
       "<p>\n",
       "  If you're reading this message in another frontend (for example, a static\n",
       "  rendering on GitHub or <a href=\"https://nbviewer.jupyter.org/\">NBViewer</a>),\n",
       "  it may mean that your frontend doesn't currently support widgets.\n",
       "</p>\n"
      ],
      "text/plain": [
       "FloatSlider(value=0.3, description='leak rate', max=1.0, step=0.01)"
      ]
     },
     "metadata": {},
     "output_type": "display_data"
    },
    {
     "data": {
      "application/vnd.jupyter.widget-view+json": {
       "model_id": "b8682223e26d403da5891f77d19d3379",
       "version_major": 2,
       "version_minor": 0
      },
      "text/html": [
       "<p>Failed to display Jupyter Widget of type <code>Button</code>.</p>\n",
       "<p>\n",
       "  If you're reading this message in the Jupyter Notebook or JupyterLab Notebook, it may mean\n",
       "  that the widgets JavaScript is still loading. If this message persists, it\n",
       "  likely means that the widgets JavaScript library is either not installed or\n",
       "  not enabled. See the <a href=\"https://ipywidgets.readthedocs.io/en/stable/user_install.html\">Jupyter\n",
       "  Widgets Documentation</a> for setup instructions.\n",
       "</p>\n",
       "<p>\n",
       "  If you're reading this message in another frontend (for example, a static\n",
       "  rendering on GitHub or <a href=\"https://nbviewer.jupyter.org/\">NBViewer</a>),\n",
       "  it may mean that your frontend doesn't currently support widgets.\n",
       "</p>\n"
      ],
      "text/plain": [
       "Button(description='Valider', style=ButtonStyle())"
      ]
     },
     "metadata": {},
     "output_type": "display_data"
    }
   ],
   "source": [
    "select_mode = ToggleButtons(description='Mode:',\n",
    "    options=['prediction', 'generative'])\n",
    "var1 = FloatSlider(value=300, min=0, max=1000, step=1, description='resSize')\n",
    "var2 = FloatSlider(value=100, min=0, max=2000, step=1, description='initLen')\n",
    "var3 = FloatSlider(value=2000, min=0, max=5000, step=1, description='trainLen')\n",
    "var4 = FloatSlider(value=2000, min=0, max=5000, step=1, description='testLen')\n",
    "var5 = FloatSlider(value=1.25, min=0, max=10, step=0.05, description='spectral radius')\n",
    "var6 = FloatSlider(value=0.3, min=0, max=1, step=0.01, description='leak rate')\n",
    "valid = Button(description='Valider')\n",
    "\n",
    "def record_values(_) :\n",
    "    clear_output()\n",
    "    nw.mode=select_mode.value\n",
    "    nw.resSize=int(var1.value)\n",
    "    nw.initLen=int(var2.value)\n",
    "    nw.trainLen=int(var3.value)\n",
    "    nw.testLen=int(var4.value)\n",
    "    nw.spectral_radius=float(var5.value)\n",
    "    nw.a=float(var6.value)\n",
    "    print(\"InitLen:\", nw.initLen, \"TrainLen:\", nw.trainLen, \"TestLen:\", nw.testLen) \n",
    "    print(\"ResSize:\", nw.resSize, \"Spectral Radius:\", nw.spectral_radius, \"Leak Rate:\", nw.a)\n",
    "    calcul_reseau(nw)\n",
    "    return(nw)\n",
    "\n",
    "display(select_mode)\n",
    "display(var1)\n",
    "display(var2)\n",
    "display(var3)\n",
    "display(var4)\n",
    "display(var5)\n",
    "display(var6)\n",
    "display(valid)\n",
    "\n",
    "valid.on_click(record_values)"
   ]
  },
  {
   "cell_type": "markdown",
   "metadata": {},
   "source": []
  },
  {
   "cell_type": "code",
   "execution_count": 13,
   "metadata": {},
   "outputs": [],
   "source": [
    "def get_corpus():\n",
    "    l_input = ['by', 'from', 'he', 'him', 'it', 'on', 'that', 'the', 'then', 'to', 'was', '.', 'N', 'V']\n",
    "    l_data = [['N', 'V', 'the', 'N', '.', 'then', 'he', 'V', 'it', '.'], #0\n",
    "              ['the', 'N', 'was', 'V', 'by', 'N', '.', 'then', 'he', 'V', 'it', '.'], #1\n",
    "              ['N', 'V', 'the', 'N', 'on', 'the', 'N', '.', 'then', 'he', 'V', 'it', '.'], #2\n",
    "              ['the', 'N', 'was', 'V', 'on', 'the', 'N', 'by', 'N', '.', 'then', 'he', 'V', 'it', '.'], #3\n",
    "              ['it', 'was', 'on', 'the', 'N', 'that', 'N', 'V', 'the', 'N', '.', 'then', 'he', 'V', 'it', '.'], #4\n",
    "              ['N', 'V', 'the', 'N', '.'], #5\n",
    "              ['the', 'N', 'was', 'V', 'by', 'N', '.'], #6\n",
    "              ['N', 'V', 'the', 'N', 'on', 'the', 'N', '.'], #7\n",
    "              ['the', 'N', 'was', 'V', 'on', 'the', 'N', 'by', 'N', '.'], #8\n",
    "              ['it', 'was', 'on', 'the', 'N', 'that', 'N', 'V', 'the', 'N', '.'], #9\n",
    "              ['N', 'V', 'the', 'N', '.', 'then', 'it', 'V', 'him', '.'], #10\n",
    "              ['the', 'N', 'was', 'V', 'by', 'N', '.', 'then', 'it', 'V', 'him', '.'], #11\n",
    "              ['N', 'V', 'the', 'N', 'on', 'the', 'N', '.', 'then', 'it', 'V', 'him', '.'], #12\n",
    "              ['the', 'N', 'was', 'V', 'on', 'the', 'N', 'by', 'N', '.', 'then', 'it', 'V', 'him', '.'], #13\n",
    "              ['it', 'was', 'on', 'the', 'N', 'that', 'N', 'V', 'the', 'N', '.', 'then', 'it', 'V', 'him', '.'], #14\n",
    "              ['the', 'N', 'V', 'the', 'N', '.'], #15\n",
    "              ['the', 'N', 'was', 'V', 'by', 'the', 'N', '.'], #16\n",
    "              ['the', 'N', 'V', 'the', 'N', 'to', 'the', 'N', '.'], #17\n",
    "              ['the', 'N', 'was', 'V', 'to', 'the', 'N', 'by', 'the', 'N', '.'], #18\n",
    "              ['the', 'N', 'V', 'the', 'N', 'the', 'N', '.'], #19\n",
    "              ['the', 'N', 'that', 'V', 'the', 'N', 'V', 'the', 'N', '.'], #20\n",
    "              ['the', 'N', 'was', 'V', 'by', 'the', 'N', 'that', 'V', 'the', 'N', '.'], #21\n",
    "              ['the', 'N', 'that', 'V', 'the', 'N', 'was', 'V', 'by', 'the', 'N', '.'], #22\n",
    "              ['the', 'N', 'V', 'the', 'N', 'that', 'V', 'the', 'N', '.'], #23\n",
    "              ['the', 'N', 'that', 'was', 'V', 'by', 'the', 'N', 'V', 'the', 'N', '.'], #24\n",
    "              ['the', 'N', 'was', 'V', 'by', 'the', 'N', 'that', 'was', 'V', 'by', 'the', 'N', '.'], #25\n",
    "              ['the', 'N', 'that', 'was', 'V', 'by', 'the', 'N', 'was', 'V', 'by', 'the', 'N', '.'], #26\n",
    "              ['the', 'N', 'V', 'the', 'N', 'that', 'was', 'V', 'by', 'the', 'N', '.'], #27\n",
    "              ['the', 'N', 'was', 'V', 'to', 'the', 'N', 'by', 'the', 'N', 'that', 'V', 'the', 'N', '.'], #28\n",
    "              ['the', 'N', 'that', 'V', 'the', 'N', 'was', 'V', 'to', 'the', 'N', 'by', 'the', 'N', '.'], #29\n",
    "              ['the', 'N', 'V', 'the', 'N', 'to', 'the', 'N', 'that', 'V', 'the', 'N', '.'], #30\n",
    "              ['the', 'N', 'was', 'V', 'from', 'the', 'N', 'to', 'the', 'N', 'that', 'V', 'the', 'N', '.'], #31\n",
    "              ['the', 'N', 'that', 'was', 'V', 'by', 'the', 'N', 'V', 'the', 'N', 'to', 'the', 'N', '.'], #32\n",
    "              ['the', 'N', 'V', 'the', 'N', 'to', 'the', 'N', 'that', 'was', 'V', 'by', 'the', 'N', '.'], #33\n",
    "              ['the', 'N', 'that', 'V', 'the', 'N', 'to', 'the', 'N', 'V', 'the', 'N', '.'], #34\n",
    "              ['the', 'N', 'was', 'V', 'by', 'the', 'N', 'that', 'V', 'the', 'N', 'to', 'the', 'N', '.'], #35\n",
    "              ['the', 'N', 'V', 'the', 'N', 'that', 'V', 'the', 'N', 'to', 'the', 'N', '.'], #36\n",
    "              ['the', 'N', 'that', 'V', 'the', 'N', 'to', 'the', 'N', 'was', 'V', 'by', 'the', 'N', '.'], #37\n",
    "              ['the', 'N', 'that', 'was', 'V', 'to', 'the', 'N', 'by', 'the', 'N', 'V', 'the', 'N', '.'], #38\n",
    "              ['the', 'N', 'V', 'the', 'N', 'that', 'was', 'V', 'by', 'the', 'N', 'to', 'the', 'N', '.'], #39\n",
    "              ['the', 'N', 'that', 'V', 'the', 'N', 'V', 'the', 'N', 'to', 'the', 'N', '.'], #40\n",
    "              ['the', 'N', 'that', 'the', 'N', 'V', 'V', 'the', 'N', '.'], #41\n",
    "              ['the', 'N', 'that', 'the', 'N', 'V', 'was', 'V', 'by', 'the', 'N', '.'], #42\n",
    "              ['the', 'N', 'that', 'the', 'N', 'V', 'V', 'the', 'N', 'to', 'the', 'N', '.'], #43\n",
    "              ['the', 'N', 'that', 'the', 'N', 'V', 'V', 'the', 'N', 'the', 'N', '.']] #44\n",
    "    return (l_input, l_data)"
   ]
  },
  {
   "cell_type": "code",
   "execution_count": 14,
   "metadata": {},
   "outputs": [],
   "source": [
    "def get_coded_meaning():\n",
    "    l_output = ['N1-A1','N1-O1','N1-R1','N1-A2','N1-O2','N1-R2','N2-A1','N2-O1','N2-R1','N2-A2','N2-O2','N2-R2','N3-A1','N3-O1','N3-R1','N3-A2','N3-O2','N3-R2','N4-A1','N4-O1','N4-R1','N4-A2','N4-O2','N4-R2']\n",
    "    l_teacher = [['N1-A1','N2-O1','N1-A2','N2-O2'],#0\n",
    "         ['N2-A1','N1-O1','N2-A2','N1-O2'],#1\n",
    "         ['N1-A1','N2-O1','N3-R1','N1-A2','N2-O2'], #2\n",
    "         ['N3-A1','N1-O1','N2-R1','N3-A2','N1-O2'], #3\n",
    "         ['N2-A1','N3-O1','N1-R1','N2-A2','N3-O2'], #4 \n",
    "         ['N1-A1','N2-O1'],#5\n",
    "         ['N2-A1','N1-O1'],#6\n",
    "         ['N1-A1','N2-O1','N3-R1'], #7\n",
    "         ['N3-A1','N1-O1','N2-R1'], #8\n",
    "         ['N2-A1','N3-O1','N1-R1'], #9\n",
    "         ['N1-A1','N2-O1','N2-A2','N1-O2'], #10\n",
    "         ['N2-A1','N1-O1','N1-A2','N2-O2'], #11\n",
    "         ['N1-A1','N2-O1','N3-R1','N2-A2','N1-O2'], #12\n",
    "         ['N3-A1','N1-O1','N2-R1','N1-A2','N3-O2'], #13\n",
    "         ['N2-A1','N3-O1','N1-R1','N3-A2','N2-O2'], #14\n",
    "         ['N1-A1','N2-O1'], #15\n",
    "         ['N2-A1','N1-O1'], #16\n",
    "         ['N1-A1','N2-O1','N3-R1'], #17\n",
    "         ['N3-A1','N1-O1','N2-R1'], #18\n",
    "         ['N1-A1','N3-O1','N2-R1'], #19\n",
    "         ['N1-A1','N2-O1','N1-A2','N3-O2'], #20\n",
    "         ['N2-A1','N1-O1','N2-A2','N3-O2'], #21\n",
    "         ['N1-A1','N2-O1','N3-A2','N1-O2'], #22\n",
    "         ['N1-A1','N2-O1','N2-A2','N3-O2'], #23\n",
    "         ['N2-A1','N1-O1','N1-A2','N3-O2'], #24\n",
    "         ['N2-A1','N1-O1','N3-A2','N2-O2'], #25\n",
    "         ['N2-A1','N1-O1','N3-A2','N1-O2'], #26\n",
    "         ['N1-A1','N2-O1','N3-A2','N2-O2'], #27\n",
    "         ['N3-A1','N1-O1','N2-R1','N3-A2','N4-O2'], #28 \n",
    "         ['N1-A1','N2-O1','N4-A2','N1-O2','N3-R2'], #29\n",
    "         ['N1-A1','N2-O1','N3-R1','N3-A2','N4-O2'], #30\n",
    "         ['N2-A1','N1-O1','N3-R1','N3-A2','N4-O2'], #31\n",
    "         ['N2-A1','N1-O1','N1-A2','N3-O2','N4-R2'], #32\n",
    "         ['N1-A1','N2-O1','N3-R1','N4-A2','N3-O2'], #33\n",
    "         ['N1-A1','N2-O1','N3-R1','N1-A2','N4-O2'], #34\n",
    "         ['N2-A1','N1-O1','N2-A2','N3-O2','N4-R2'], #35\n",
    "         ['N1-A1','N2-O1','N2-A2','N3-O2','N4-R2'], #36\n",
    "         ['N1-A1','N2-O1','N3-R1','N4-A2','N1-O2'], #37\n",
    "         ['N3-A1','N1-O1','N2-R1','N1-A2','N4-O2'], #38\n",
    "         ['N1-A1','N2-O1','N3-A2','N2-O2','N4-R2'], #39\n",
    "         ['N1-A1','N2-O1','N1-A2','N3-O2','N4-R2'], #40\n",
    "         ['N1-O1','N1-A2','N2-A1','N3-O2'], #41\n",
    "         ['N1-O1','N1-O2','N2-A1','N3-A2'], #42\n",
    "         ['N1-O1','N1-A2','N2-A2','N3-O2','N4-R2'], #43\n",
    "         ['N1-O1','N1-A2','N2-A2','N3-R2','N4-O2'], #44 \n",
    "         ]\n",
    "    return (l_output, l_teacher)"
   ]
  },
  {
   "cell_type": "code",
   "execution_count": 15,
   "metadata": {},
   "outputs": [],
   "source": [
    "def make_one_stim(d_io,indice):\n",
    "    if d_io['initial_pause'] is True:\n",
    "        j = 1\n",
    "    else:\n",
    "        j = 0\n",
    "        \n",
    "    #on recupere la phrase a utilisé\n",
    "    sentence = d_io['l_data'][indice]\n",
    "        \n",
    "    #initialisation de la matrice resultat de taille = nb mots possible * temps de stimulation\n",
    "    stim = np.zeros((len(d_io['l_input']), d_io['full_time'])) # stimulus \n",
    "    # generation du signal \n",
    "    j = j + d_io['l_offset'][indice] #temps du debut de la stimulation\n",
    "    for i in range(len(sentence)):\n",
    "        stim[d_io['l_input'].index(sentence[i]), d_io['act_time']*j:d_io['act_time']*(j+1)] = np.ones((1,d_io['act_time'])) \n",
    "        j = j + 1\n",
    "    return stim.T\n",
    "    \n",
    "    \n",
    "    "
   ]
  },
  {
   "cell_type": "code",
   "execution_count": 17,
   "metadata": {},
   "outputs": [
    {
     "data": {
      "text/plain": [
       "[<matplotlib.lines.Line2D at 0x25cce830320>,\n",
       " <matplotlib.lines.Line2D at 0x25cce830470>,\n",
       " <matplotlib.lines.Line2D at 0x25cce8305c0>,\n",
       " <matplotlib.lines.Line2D at 0x25cce830710>,\n",
       " <matplotlib.lines.Line2D at 0x25cce830860>,\n",
       " <matplotlib.lines.Line2D at 0x25cce8309b0>,\n",
       " <matplotlib.lines.Line2D at 0x25cce830b00>,\n",
       " <matplotlib.lines.Line2D at 0x25cce830c50>,\n",
       " <matplotlib.lines.Line2D at 0x25cce830da0>,\n",
       " <matplotlib.lines.Line2D at 0x25cce830ef0>,\n",
       " <matplotlib.lines.Line2D at 0x25cce807d68>,\n",
       " <matplotlib.lines.Line2D at 0x25cce835198>,\n",
       " <matplotlib.lines.Line2D at 0x25cce8352e8>,\n",
       " <matplotlib.lines.Line2D at 0x25cce835438>]"
      ]
     },
     "execution_count": 17,
     "metadata": {},
     "output_type": "execute_result"
    },
    {
     "data": {
      "image/png": "[encoded data removed]",
      "text/plain": [
       "<matplotlib.figure.Figure at 0x25cce553e80>"
      ]
     },
     "metadata": {},
     "output_type": "display_data"
    }
   ],
   "source": [
    "d_io = {}\n",
    "#tableau des indices des phrases de data que l'on va utilisé\n",
    "d_io['subset'] = [0]#range(15,41)\n",
    "\n",
    "#temps d'activation\n",
    "d_io['act_time'] = 20\n",
    "\n",
    "#pause au debut et a la fin de la stimulation\n",
    "d_io['suppl_pause_at_the_end'] = 0\n",
    "d_io['initial_pause'] = True\n",
    "\n",
    "#tableau des mots dans l_input et les phrases dans l_data\n",
    "(d_io['l_input'], d_io['l_data']) = get_corpus()\n",
    "\n",
    "#calcul du nombre de mots dans chaque phrase\n",
    "d_io['l_nr_word'] = [None]*len(d_io['l_data'])\n",
    "for i in range(len(d_io['l_data'])):\n",
    "        d_io['l_nr_word'][i] = len(d_io['l_data'][i])\n",
    "#nombre max de mots dans une phrase\n",
    "d_io['mult'] = max(d_io['l_nr_word'])\n",
    "\n",
    "#calcul du temps total de stimulation\n",
    "tempsMaxPhrase = d_io['act_time']*d_io['mult']\n",
    "tempsPauseInit = d_io['act_time']*(1*d_io['initial_pause'])\n",
    "tempsPauseFin = d_io['suppl_pause_at_the_end']\n",
    "d_io['full_time'] = tempsMaxPhrase + tempsPauseInit + tempsPauseFin\n",
    "\n",
    "#si on ne precise pas les phrases a utilisé, on utilise l'ensemble du corpus\n",
    "if d_io['subset'] is None:\n",
    "        d_io['subset'] = range(len(d_io['l_data']))\n",
    "        \n",
    "#création de la matrice representant le signal d'entré\n",
    "#taille = nombre de phrase * nombre de mots possible * temps total de stimulation\n",
    "stim_data = len(d_io['subset'])*[np.zeros((len(d_io['l_input']), d_io['full_time']))]\n",
    "\n",
    "#difference entre le nombre max de mots dans une phrase et les mots dans celle-ci\n",
    "l_offset = [d_io['mult']-x for x in d_io['l_nr_word']]\n",
    "d_io['l_offset'] = l_offset\n",
    "\n",
    "#generation de la stimulation pour chaque phrase de subset\n",
    "idx_stim = 0 \n",
    "for i in d_io['subset']:\n",
    "    stim_data[idx_stim] = make_one_stim(d_io,i)\n",
    "    idx_stim = idx_stim + 1\n",
    "\n",
    "#generation du graphe\n",
    "graphe = copy.deepcopy(stim_data)\n",
    "for i in range(len(graphe[0])):\n",
    "    for j in range(len(graphe[0][0])):\n",
    "        if(graphe[0][i][j]==1):\n",
    "            graphe[0][i][j] = j\n",
    "        \n",
    "\n",
    "#print(stim_data[i][j][k])#stimulation du mot k au temps j dans la phrase i\n",
    "\n",
    "plt.plot(graphe[0])\n",
    "#plt.plot(stim_data[0])"
   ]
  },
  {
   "cell_type": "code",
   "execution_count": null,
   "metadata": {},
   "outputs": [],
   "source": []
  }
 ],
 "metadata": {
  "kernelspec": {
   "display_name": "Python 3",
   "language": "python",
   "name": "python3"
  },
  "language_info": {
   "codemirror_mode": {
    "name": "ipython",
    "version": 3
   },
   "file_extension": ".py",
   "mimetype": "text/x-python",
   "name": "python",
   "nbconvert_exporter": "python",
   "pygments_lexer": "ipython3",
   "version": "3.6.4"
  }
 },
 "nbformat": 4,
 "nbformat_minor": 2
}
